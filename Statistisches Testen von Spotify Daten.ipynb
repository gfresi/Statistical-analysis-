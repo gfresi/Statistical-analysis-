{
 "cells": [
  {
   "cell_type": "markdown",
   "metadata": {},
   "source": [
    "## Statistiche Analyse - Zusammenhang zwischen Dauer und Belibtheit eines Liedes auf Spotify\n",
    "\n",
    "\n",
    " Giacomo Fresi ( Matrikelnummer : 01114135213)\n"
   ]
  },
  {
   "cell_type": "markdown",
   "metadata": {},
   "source": [
    "## Hintergrund \n",
    "\n",
    "Um meinen statistischen Test durchzuführen, habe ich einen Datensatz von Kaggle genutzt, der die Informationen zu den 2000 am meisten gehörten Songs auf Spotify im Jahr 2019 enthält.\n",
    "\n",
    "(Quelle : https://www.kaggle.com/iamsumat/spotify-top-2000s-mega-dataset ,Diese Daten werden aus der Spotify-Playlist - Top 2000s von PlaylistMachinery (@plamere) extrahiert; License : CC0, Public Domain) \n",
    "\n",
    "Die Daten enthalten ungefähr 15 Spalten, die jeweils das Lied und seine Eigenschaften beschreiben.\n",
    "\n",
    "Die Daten enthalten Informationen aus den Metadaten von spotify zu den Song-Eigenschaften wie z.B. Tanzbarkeit,Tempo,Mood usw...\n",
    "Die Beschreibung der einzelnen Eigenschaften wird unten ausführlich angegeben:\n",
    "\n",
    "* Index : ID\n",
    "* Title : Name des Liedes\n",
    "* Artist : Name des Künstlers\n",
    "* Top Genre : Genre des Liedes\n",
    "* Year :  Erscheinungsjahr des Liedes\n",
    "* Beats per Minute (BPM): Das Tempo des Songs\n",
    "* Energy: Die Energie eines Liedes - je höher der Wert, desto energischer ist das Lied\n",
    "* Danceability: Je höher der Wert, desto tanzbarer ist das Lied\n",
    "* Duration : Die Dauer des Songs\n",
    "* Popularity : Je höher der Wert, desto beliebter ist das Lied. \n",
    "   *  Es gibt noch weitere Eigenschaften, aber ich habe mich von Anfang an entschieden, sie in meiner statistischen Forschung nicht zu berücksichtigen.\n"
   ]
  },
  {
   "cell_type": "markdown",
   "metadata": {},
   "source": [
    "## Fragestellung / Hypothese\n",
    "\n",
    "Die Hypothese H1, die ich belegen versucht habe, besagt Folgendes:\n",
    "\n",
    "* Songs, die über 4 Minuten dauern, sind auf Spotify beliebter als die, die weniger dauern.\n",
    "\n",
    "Also in Gegenteil dazu ,die Nullhypothese H0 besagt dass die Länge mit der Belibtheit eines Songs nicht zusammenhängt.\n",
    "\n",
    "Folgende Merkmale habe ich also bei meiner statistisschen Analyse berücksicgtigt:\n",
    "* Title\n",
    "* Duration\n",
    "* Popularity\n",
    "\n",
    "Das erste Problem in meinem Datensatz war, dass die Songs in der Playlist zufällig platziert wurden und keine Reihenfolge hatten.\n",
    "Deshalb habe ich die \"Rang\" Funktion der Pandas-Library verwendet, um die Songs nach \"Popularity\" zu klassifizieren und so eine neue \"Rank_by_popularity\" Spalte zu erstellen, nach der meine Daten in absteigender Rehienfolge (vom höchsten zum niedrigsten) platziert wurden.\n",
    "\n"
   ]
  },
  {
   "cell_type": "code",
   "execution_count": 3,
   "metadata": {},
   "outputs": [],
   "source": [
    "import pandas as pd\n",
    "import seaborn as sns\n",
    "import scipy.stats"
   ]
  },
  {
   "cell_type": "markdown",
   "metadata": {},
   "source": [
    "Nachdem ich meine Daten importiert und klassifiziert hatte, berücksichtigte ich nur die Spalten, die ich benötigte, nämlich Title, Duration und Popularity.\n"
   ]
  },
  {
   "cell_type": "code",
   "execution_count": 4,
   "metadata": {},
   "outputs": [
    {
     "name": "stderr",
     "output_type": "stream",
     "text": [
      "b'Skipping line 844: expected 15 fields, saw 16\\nSkipping line 906: expected 15 fields, saw 16\\nSkipping line 953: expected 15 fields, saw 16\\nSkipping line 1984: expected 15 fields, saw 16\\n'\n"
     ]
    },
    {
     "data": {
      "text/html": [
       "<div>\n",
       "<style scoped>\n",
       "    .dataframe tbody tr th:only-of-type {\n",
       "        vertical-align: middle;\n",
       "    }\n",
       "\n",
       "    .dataframe tbody tr th {\n",
       "        vertical-align: top;\n",
       "    }\n",
       "\n",
       "    .dataframe thead th {\n",
       "        text-align: right;\n",
       "    }\n",
       "</style>\n",
       "<table border=\"1\" class=\"dataframe\">\n",
       "  <thead>\n",
       "    <tr style=\"text-align: right;\">\n",
       "      <th></th>\n",
       "      <th>Popularity</th>\n",
       "      <th>Title</th>\n",
       "      <th>Duration</th>\n",
       "    </tr>\n",
       "  </thead>\n",
       "  <tbody>\n",
       "    <tr>\n",
       "      <th>793</th>\n",
       "      <td>100</td>\n",
       "      <td>Dance Monkey</td>\n",
       "      <td>209</td>\n",
       "    </tr>\n",
       "    <tr>\n",
       "      <th>787</th>\n",
       "      <td>98</td>\n",
       "      <td>Memories</td>\n",
       "      <td>189</td>\n",
       "    </tr>\n",
       "    <tr>\n",
       "      <th>786</th>\n",
       "      <td>95</td>\n",
       "      <td>bad guy</td>\n",
       "      <td>194</td>\n",
       "    </tr>\n",
       "    <tr>\n",
       "      <th>1638</th>\n",
       "      <td>95</td>\n",
       "      <td>All I Want for Christmas Is You</td>\n",
       "      <td>241</td>\n",
       "    </tr>\n",
       "    <tr>\n",
       "      <th>726</th>\n",
       "      <td>88</td>\n",
       "      <td>Shallow</td>\n",
       "      <td>216</td>\n",
       "    </tr>\n",
       "    <tr>\n",
       "      <th>...</th>\n",
       "      <td>...</td>\n",
       "      <td>...</td>\n",
       "      <td>...</td>\n",
       "    </tr>\n",
       "    <tr>\n",
       "      <th>1548</th>\n",
       "      <td>71</td>\n",
       "      <td>Learning To Fly</td>\n",
       "      <td>242</td>\n",
       "    </tr>\n",
       "    <tr>\n",
       "      <th>376</th>\n",
       "      <td>71</td>\n",
       "      <td>Trouble</td>\n",
       "      <td>273</td>\n",
       "    </tr>\n",
       "    <tr>\n",
       "      <th>27</th>\n",
       "      <td>71</td>\n",
       "      <td>Cleanin' Out My Closet</td>\n",
       "      <td>298</td>\n",
       "    </tr>\n",
       "    <tr>\n",
       "      <th>1174</th>\n",
       "      <td>71</td>\n",
       "      <td>Keep on Loving You</td>\n",
       "      <td>200</td>\n",
       "    </tr>\n",
       "    <tr>\n",
       "      <th>1888</th>\n",
       "      <td>71</td>\n",
       "      <td>Hey Joe</td>\n",
       "      <td>210</td>\n",
       "    </tr>\n",
       "  </tbody>\n",
       "</table>\n",
       "<p>500 rows × 3 columns</p>\n",
       "</div>"
      ],
      "text/plain": [
       "      Popularity                            Title  Duration\n",
       "793          100                     Dance Monkey       209\n",
       "787           98                         Memories       189\n",
       "786           95                          bad guy       194\n",
       "1638          95  All I Want for Christmas Is You       241\n",
       "726           88                          Shallow       216\n",
       "...          ...                              ...       ...\n",
       "1548          71                  Learning To Fly       242\n",
       "376           71                          Trouble       273\n",
       "27            71           Cleanin' Out My Closet       298\n",
       "1174          71               Keep on Loving You       200\n",
       "1888          71                          Hey Joe       210\n",
       "\n",
       "[500 rows x 3 columns]"
      ]
     },
     "execution_count": 4,
     "metadata": {},
     "output_type": "execute_result"
    }
   ],
   "source": [
    "songs = pd.read_csv(\"Spotify_copia.csv\",error_bad_lines=False)\n",
    "songs[\"Rank_by_Popularity\"] = songs[\"Popularity\"].rank(ascending = False)\n",
    "songs = songs.sort_values(\"Popularity\", ascending=False)\n",
    "songs = songs[[\"Popularity\",\"Title\",\"Duration\" ]].head(500)\n",
    "songs\n"
   ]
  },
  {
   "cell_type": "markdown",
   "metadata": {},
   "source": [
    "Ein weiteres Problem mit meinem Datensatz war, dass die Werte in der Duration-Spalte Strings und nicht Floats waren.\n",
    "Also habe ich eine for-Schleife verwendet, um die Strings-Werte durch Floats zu ersetzen, damit die statistische Hypothese durchgeführt werden könnte."
   ]
  },
  {
   "cell_type": "code",
   "execution_count": 5,
   "metadata": {},
   "outputs": [],
   "source": [
    "LenghtClean = []\n",
    "\n",
    "for X in songs[\"Duration\"]:\n",
    "    LenghtClean.append(float(X))\n",
    "   \n",
    "\n",
    "songs[\"Duration\"] = LenghtClean\n",
    "    \n",
    "\n"
   ]
  },
  {
   "cell_type": "code",
   "execution_count": 6,
   "metadata": {},
   "outputs": [
    {
     "data": {
      "text/html": [
       "<div>\n",
       "<style scoped>\n",
       "    .dataframe tbody tr th:only-of-type {\n",
       "        vertical-align: middle;\n",
       "    }\n",
       "\n",
       "    .dataframe tbody tr th {\n",
       "        vertical-align: top;\n",
       "    }\n",
       "\n",
       "    .dataframe thead th {\n",
       "        text-align: right;\n",
       "    }\n",
       "</style>\n",
       "<table border=\"1\" class=\"dataframe\">\n",
       "  <thead>\n",
       "    <tr style=\"text-align: right;\">\n",
       "      <th></th>\n",
       "      <th>Popularity</th>\n",
       "      <th>Duration</th>\n",
       "    </tr>\n",
       "  </thead>\n",
       "  <tbody>\n",
       "    <tr>\n",
       "      <th>count</th>\n",
       "      <td>500.000000</td>\n",
       "      <td>500.000000</td>\n",
       "    </tr>\n",
       "    <tr>\n",
       "      <th>mean</th>\n",
       "      <td>76.122000</td>\n",
       "      <td>250.946000</td>\n",
       "    </tr>\n",
       "    <tr>\n",
       "      <th>std</th>\n",
       "      <td>4.219802</td>\n",
       "      <td>64.397742</td>\n",
       "    </tr>\n",
       "    <tr>\n",
       "      <th>min</th>\n",
       "      <td>71.000000</td>\n",
       "      <td>125.000000</td>\n",
       "    </tr>\n",
       "    <tr>\n",
       "      <th>25%</th>\n",
       "      <td>73.000000</td>\n",
       "      <td>210.750000</td>\n",
       "    </tr>\n",
       "    <tr>\n",
       "      <th>50%</th>\n",
       "      <td>75.000000</td>\n",
       "      <td>245.000000</td>\n",
       "    </tr>\n",
       "    <tr>\n",
       "      <th>75%</th>\n",
       "      <td>78.000000</td>\n",
       "      <td>279.250000</td>\n",
       "    </tr>\n",
       "    <tr>\n",
       "      <th>max</th>\n",
       "      <td>100.000000</td>\n",
       "      <td>559.000000</td>\n",
       "    </tr>\n",
       "  </tbody>\n",
       "</table>\n",
       "</div>"
      ],
      "text/plain": [
       "       Popularity    Duration\n",
       "count  500.000000  500.000000\n",
       "mean    76.122000  250.946000\n",
       "std      4.219802   64.397742\n",
       "min     71.000000  125.000000\n",
       "25%     73.000000  210.750000\n",
       "50%     75.000000  245.000000\n",
       "75%     78.000000  279.250000\n",
       "max    100.000000  559.000000"
      ]
     },
     "execution_count": 6,
     "metadata": {},
     "output_type": "execute_result"
    }
   ],
   "source": [
    "songs.describe()"
   ]
  },
  {
   "cell_type": "markdown",
   "metadata": {},
   "source": [
    "Daher sehen wir, dass die durchschnittliche Dauer 250 Sekunden beträgt, 10 Sekunden mehr als die 4 Minuten meiner Hypothese.\n",
    "Ich habe in meinem Datensatz eine neue Spalte mit dem Namen \"Song_length\" erstellt, um die Dauer der Songs in zwei Klassen zu unterteilen:\n",
    "einerseits diejenigen, die vier Minuten oder länger dauern, andererseits diejenigen, die weniger als vier Minuten dauern.\n"
   ]
  },
  {
   "cell_type": "code",
   "execution_count": 7,
   "metadata": {},
   "outputs": [],
   "source": [
    "songs[\"Song_Length\"] = songs.Duration.apply(\n",
    "    lambda Song_Length: \"four_or_more\" if Song_Length >= 240 else \"four_or_less\"\n",
    ")"
   ]
  },
  {
   "cell_type": "code",
   "execution_count": 8,
   "metadata": {},
   "outputs": [
    {
     "data": {
      "text/plain": [
       "Song_Length\n",
       "four_or_less    224\n",
       "four_or_more    276\n",
       "dtype: int64"
      ]
     },
     "execution_count": 8,
     "metadata": {},
     "output_type": "execute_result"
    }
   ],
   "source": [
    "songs.groupby([\"Song_Length\"]).size()"
   ]
  },
  {
   "cell_type": "code",
   "execution_count": 9,
   "metadata": {},
   "outputs": [
    {
     "data": {
      "text/html": [
       "<div>\n",
       "<style scoped>\n",
       "    .dataframe tbody tr th:only-of-type {\n",
       "        vertical-align: middle;\n",
       "    }\n",
       "\n",
       "    .dataframe tbody tr th {\n",
       "        vertical-align: top;\n",
       "    }\n",
       "\n",
       "    .dataframe thead th {\n",
       "        text-align: right;\n",
       "    }\n",
       "</style>\n",
       "<table border=\"1\" class=\"dataframe\">\n",
       "  <thead>\n",
       "    <tr style=\"text-align: right;\">\n",
       "      <th></th>\n",
       "      <th>Popularity</th>\n",
       "      <th>Title</th>\n",
       "      <th>Duration</th>\n",
       "      <th>Song_Length</th>\n",
       "    </tr>\n",
       "  </thead>\n",
       "  <tbody>\n",
       "    <tr>\n",
       "      <th>793</th>\n",
       "      <td>100</td>\n",
       "      <td>Dance Monkey</td>\n",
       "      <td>209.0</td>\n",
       "      <td>four_or_less</td>\n",
       "    </tr>\n",
       "    <tr>\n",
       "      <th>787</th>\n",
       "      <td>98</td>\n",
       "      <td>Memories</td>\n",
       "      <td>189.0</td>\n",
       "      <td>four_or_less</td>\n",
       "    </tr>\n",
       "    <tr>\n",
       "      <th>786</th>\n",
       "      <td>95</td>\n",
       "      <td>bad guy</td>\n",
       "      <td>194.0</td>\n",
       "      <td>four_or_less</td>\n",
       "    </tr>\n",
       "    <tr>\n",
       "      <th>1638</th>\n",
       "      <td>95</td>\n",
       "      <td>All I Want for Christmas Is You</td>\n",
       "      <td>241.0</td>\n",
       "      <td>four_or_more</td>\n",
       "    </tr>\n",
       "    <tr>\n",
       "      <th>726</th>\n",
       "      <td>88</td>\n",
       "      <td>Shallow</td>\n",
       "      <td>216.0</td>\n",
       "      <td>four_or_less</td>\n",
       "    </tr>\n",
       "    <tr>\n",
       "      <th>...</th>\n",
       "      <td>...</td>\n",
       "      <td>...</td>\n",
       "      <td>...</td>\n",
       "      <td>...</td>\n",
       "    </tr>\n",
       "    <tr>\n",
       "      <th>1548</th>\n",
       "      <td>71</td>\n",
       "      <td>Learning To Fly</td>\n",
       "      <td>242.0</td>\n",
       "      <td>four_or_more</td>\n",
       "    </tr>\n",
       "    <tr>\n",
       "      <th>376</th>\n",
       "      <td>71</td>\n",
       "      <td>Trouble</td>\n",
       "      <td>273.0</td>\n",
       "      <td>four_or_more</td>\n",
       "    </tr>\n",
       "    <tr>\n",
       "      <th>27</th>\n",
       "      <td>71</td>\n",
       "      <td>Cleanin' Out My Closet</td>\n",
       "      <td>298.0</td>\n",
       "      <td>four_or_more</td>\n",
       "    </tr>\n",
       "    <tr>\n",
       "      <th>1174</th>\n",
       "      <td>71</td>\n",
       "      <td>Keep on Loving You</td>\n",
       "      <td>200.0</td>\n",
       "      <td>four_or_less</td>\n",
       "    </tr>\n",
       "    <tr>\n",
       "      <th>1888</th>\n",
       "      <td>71</td>\n",
       "      <td>Hey Joe</td>\n",
       "      <td>210.0</td>\n",
       "      <td>four_or_less</td>\n",
       "    </tr>\n",
       "  </tbody>\n",
       "</table>\n",
       "<p>500 rows × 4 columns</p>\n",
       "</div>"
      ],
      "text/plain": [
       "      Popularity                            Title  Duration   Song_Length\n",
       "793          100                     Dance Monkey     209.0  four_or_less\n",
       "787           98                         Memories     189.0  four_or_less\n",
       "786           95                          bad guy     194.0  four_or_less\n",
       "1638          95  All I Want for Christmas Is You     241.0  four_or_more\n",
       "726           88                          Shallow     216.0  four_or_less\n",
       "...          ...                              ...       ...           ...\n",
       "1548          71                  Learning To Fly     242.0  four_or_more\n",
       "376           71                          Trouble     273.0  four_or_more\n",
       "27            71           Cleanin' Out My Closet     298.0  four_or_more\n",
       "1174          71               Keep on Loving You     200.0  four_or_less\n",
       "1888          71                          Hey Joe     210.0  four_or_less\n",
       "\n",
       "[500 rows x 4 columns]"
      ]
     },
     "execution_count": 9,
     "metadata": {},
     "output_type": "execute_result"
    }
   ],
   "source": [
    "songs"
   ]
  },
  {
   "cell_type": "markdown",
   "metadata": {},
   "source": [
    "## Visualisierung 1 \n",
    "### Strip Plot\n"
   ]
  },
  {
   "cell_type": "code",
   "execution_count": 10,
   "metadata": {},
   "outputs": [
    {
     "data": {
      "text/plain": [
       "<matplotlib.axes._subplots.AxesSubplot at 0x1a17b23710>"
      ]
     },
     "execution_count": 10,
     "metadata": {},
     "output_type": "execute_result"
    },
    {
     "data": {
      "image/png": "[encoded data removed]",
      "text/plain": [
       "<Figure size 432x288 with 1 Axes>"
      ]
     },
     "metadata": {
      "needs_background": "light"
     },
     "output_type": "display_data"
    }
   ],
   "source": [
    "sns.stripplot(data=songs, y=\"Popularity\", x=\"Song_Length\",alpha = 0.1)"
   ]
  },
  {
   "cell_type": "markdown",
   "metadata": {},
   "source": [
    "Die erste grafische Darstellung zeigt keine offensichtlichen Unterschiede zwischen den beiden Klassen.\n",
    "Es scheint daher die Nullhypothese zu belegen, die besagt, dass die Länge eines Songs keinen Einfluss auf seine Belibtheit hat.\n",
    "Beide Klassen konzentrieren sich in einem Popularity-bereich ,der zwischen 70 und 90 liegt.\n",
    "Im Gegenteil, das Plot der kürzeren Songs scheint in Bezug auf die Popularität der Songs eher nach oben zu tendieren.\n",
    "\n"
   ]
  },
  {
   "cell_type": "markdown",
   "metadata": {},
   "source": [
    "## Visualisierung 2\n",
    "### Lineare Regression"
   ]
  },
  {
   "cell_type": "code",
   "execution_count": 11,
   "metadata": {},
   "outputs": [
    {
     "data": {
      "image/png": "[encoded data removed]",
      "text/plain": [
       "<Figure size 432x288 with 1 Axes>"
      ]
     },
     "metadata": {
      "needs_background": "light"
     },
     "output_type": "display_data"
    }
   ],
   "source": [
    "%matplotlib inline\n",
    "px = sns.regplot(x=songs.Popularity , y = songs.Duration)\n",
    "\n"
   ]
  },
  {
   "cell_type": "code",
   "execution_count": 12,
   "metadata": {},
   "outputs": [
    {
     "data": {
      "text/plain": [
       "LinregressResult(slope=-0.005938813175671472, intercept=77.61232141118205, rvalue=-0.09063130333575163, pvalue=0.0427980264871792, stderr=0.0029242583994931975)"
      ]
     },
     "execution_count": 12,
     "metadata": {},
     "output_type": "execute_result"
    }
   ],
   "source": [
    "scipy.stats.linregress(x=songs.Duration, y=songs.Popularity)\n",
    "\n",
    "#Die Absteigerung ist leicht negativ."
   ]
  },
  {
   "cell_type": "markdown",
   "metadata": {},
   "source": [
    "Auch in diesem Fall die grafische Darstellung scheint meine alternative Hypothese zu widerlegen.\n",
    "Die verwendete Grafik dient dazu,die lineare Regression zwischen Duration und Popularity eines Songs zu belegen, die in diesem Fall aber nicht zu sehen ist,die Korrelation zwischen die Werte scheint negativ zu sein.\n",
    "Ich habe versucht grafisch eine Verbindung zwischen den Werten darzustellen,jedoch hat es nicht funktioniert,weil kein klares Muster zu erkennen ist,da die Daten zu verstreut.\n",
    "\n",
    "\n"
   ]
  },
  {
   "cell_type": "markdown",
   "metadata": {},
   "source": [
    "## Statistische Tests und Interpretation der Ergebnisse"
   ]
  },
  {
   "cell_type": "code",
   "execution_count": 13,
   "metadata": {},
   "outputs": [
    {
     "data": {
      "text/plain": [
       "Ttest_indResult(statistic=-1.4651852167313877, pvalue=0.14350142846029965)"
      ]
     },
     "execution_count": 13,
     "metadata": {},
     "output_type": "execute_result"
    }
   ],
   "source": [
    "Popularity_long = songs[songs.Song_Length == \"four_or_more\"] [\"Popularity\"]\n",
    "Popularity_short = songs[songs.Song_Length == \"four_or_less\"] [\"Popularity\"]\n",
    "\n",
    "scipy.stats.ttest_ind(Popularity_long, Popularity_short)"
   ]
  },
  {
   "cell_type": "markdown",
   "metadata": {},
   "source": [
    "Durch den T-Test habe ich herausgefunden,dass der pvalue Wert über den Signifikanzniveau(a=0.05) liegt und somit die Nullhypothese angenommen wird,dass heißt,dass die Popularität der Songs keinen Zusammenhang mit der Dauer der Songs zu tun hat."
   ]
  },
  {
   "cell_type": "code",
   "execution_count": 15,
   "metadata": {},
   "outputs": [
    {
     "data": {
      "text/plain": [
       "(-0.09063130333575145, 0.0427980264871675)"
      ]
     },
     "execution_count": 15,
     "metadata": {},
     "output_type": "execute_result"
    }
   ],
   "source": [
    "scipy.stats.pearsonr(songs.Duration,songs.Popularity)"
   ]
  },
  {
   "cell_type": "markdown",
   "metadata": {},
   "source": [
    "Auch der Korrelationskoeffizient r von Bravais-Pearson , der neben 0,1 liegt, beweist die Richtigkeit der NullHypothese."
   ]
  },
  {
   "cell_type": "markdown",
   "metadata": {},
   "source": [
    "Zusammenfassend ist daher klar, dass meine H1 Hypothese falsch und die Nullhypothese H0 richtig war.\n",
    "Es scheint keinen Hinweis auf eine Korrelation zwischen der Länge eines Songs und seiner Popularität zu geben."
   ]
  }
 ],
 "metadata": {
  "kernelspec": {
   "display_name": "Python 3",
   "language": "python",
   "name": "python3"
  }
 },
 "nbformat": 4,
 "nbformat_minor": 4
}
